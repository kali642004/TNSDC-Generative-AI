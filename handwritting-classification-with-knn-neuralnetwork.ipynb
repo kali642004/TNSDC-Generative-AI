{
 "cells": [
  {
   "cell_type": "code",
   "execution_count": 1,
   "id": "cb84334b",
   "metadata": {
    "execution": {
     "iopub.execute_input": "2023-03-09T05:37:14.152598Z",
     "iopub.status.busy": "2023-03-09T05:37:14.152122Z",
     "iopub.status.idle": "2023-03-09T05:37:15.437086Z",
     "shell.execute_reply": "2023-03-09T05:37:15.435867Z"
    },
    "papermill": {
     "duration": 1.300308,
     "end_time": "2023-03-09T05:37:15.440087",
     "exception": false,
     "start_time": "2023-03-09T05:37:14.139779",
     "status": "completed"
    },
    "tags": []
   },
   "outputs": [],
   "source": [
    "import pandas as pd \n",
    "import numpy as np \n",
    "import cv2\n",
    "import os\n",
    "import matplotlib.pyplot as plt\n",
    "from sklearn.model_selection import train_test_split\n",
    "from sklearn.metrics import accuracy_score\n",
    "from sklearn.preprocessing import LabelBinarizer"
   ]
  },
  {
   "cell_type": "code",
   "execution_count": 2,
   "id": "cbc65158",
   "metadata": {
    "execution": {
     "iopub.execute_input": "2023-03-09T05:37:15.460365Z",
     "iopub.status.busy": "2023-03-09T05:37:15.459884Z",
     "iopub.status.idle": "2023-03-09T05:52:21.641071Z",
     "shell.execute_reply": "2023-03-09T05:52:21.639637Z"
    },
    "papermill": {
     "duration": 906.195047,
     "end_time": "2023-03-09T05:52:21.644562",
     "exception": false,
     "start_time": "2023-03-09T05:37:15.449515",
     "status": "completed"
    },
    "tags": []
   },
   "outputs": [],
   "source": [
    "dir = \"/kaggle/input/handwritten-characters/Train/\"\n",
    "train_data = []\n",
    "img_size = 32\n",
    "non_chars = [\"#\",\"$\",\"&\",\"@\"]\n",
    "for i in os.listdir(dir):\n",
    "    if i in non_chars:\n",
    "        continue\n",
    "    count = 0\n",
    "    sub_directory = os.path.join(dir,i)\n",
    "    for j in os.listdir(sub_directory):\n",
    "        count+=1\n",
    "        if count > 4000:\n",
    "            break\n",
    "        img = cv2.imread(os.path.join(sub_directory,j),0)\n",
    "        # img = cv2.resize(img,(img_size,img_size))\n",
    "        train_data.append([img,i[-1]])"
   ]
  },
  {
   "cell_type": "code",
   "execution_count": 3,
   "id": "ed4b9d8b",
   "metadata": {
    "execution": {
     "iopub.execute_input": "2023-03-09T05:52:21.666801Z",
     "iopub.status.busy": "2023-03-09T05:52:21.665557Z",
     "iopub.status.idle": "2023-03-09T05:52:21.718918Z",
     "shell.execute_reply": "2023-03-09T05:52:21.717717Z"
    },
    "papermill": {
     "duration": 0.066532,
     "end_time": "2023-03-09T05:52:21.721517",
     "exception": false,
     "start_time": "2023-03-09T05:52:21.654985",
     "status": "completed"
    },
    "tags": []
   },
   "outputs": [],
   "source": [
    "train_X = []\n",
    "train_Y = []\n",
    "for features,label in train_data:\n",
    "    train_X.append(features)\n",
    "    train_Y.append(label)"
   ]
  },
  {
   "cell_type": "code",
   "execution_count": 4,
   "id": "8c414adc",
   "metadata": {
    "execution": {
     "iopub.execute_input": "2023-03-09T05:52:21.742119Z",
     "iopub.status.busy": "2023-03-09T05:52:21.741367Z",
     "iopub.status.idle": "2023-03-09T05:52:21.750627Z",
     "shell.execute_reply": "2023-03-09T05:52:21.749289Z"
    },
    "papermill": {
     "duration": 0.023598,
     "end_time": "2023-03-09T05:52:21.754540",
     "exception": false,
     "start_time": "2023-03-09T05:52:21.730942",
     "status": "completed"
    },
    "tags": []
   },
   "outputs": [
    {
     "data": {
      "text/plain": [
       "140000"
      ]
     },
     "execution_count": 4,
     "metadata": {},
     "output_type": "execute_result"
    }
   ],
   "source": [
    "len(train_Y)"
   ]
  },
  {
   "cell_type": "code",
   "execution_count": 5,
   "id": "56d9b0d6",
   "metadata": {
    "execution": {
     "iopub.execute_input": "2023-03-09T05:52:21.774887Z",
     "iopub.status.busy": "2023-03-09T05:52:21.774493Z",
     "iopub.status.idle": "2023-03-09T05:52:21.781891Z",
     "shell.execute_reply": "2023-03-09T05:52:21.780705Z"
    },
    "papermill": {
     "duration": 0.020143,
     "end_time": "2023-03-09T05:52:21.784105",
     "exception": false,
     "start_time": "2023-03-09T05:52:21.763962",
     "status": "completed"
    },
    "tags": []
   },
   "outputs": [
    {
     "data": {
      "text/plain": [
       "140000"
      ]
     },
     "execution_count": 5,
     "metadata": {},
     "output_type": "execute_result"
    }
   ],
   "source": [
    "len(train_X)"
   ]
  },
  {
   "cell_type": "code",
   "execution_count": 6,
   "id": "293b8631",
   "metadata": {
    "execution": {
     "iopub.execute_input": "2023-03-09T05:52:21.804573Z",
     "iopub.status.busy": "2023-03-09T05:52:21.804041Z",
     "iopub.status.idle": "2023-03-09T05:52:22.074564Z",
     "shell.execute_reply": "2023-03-09T05:52:22.073118Z"
    },
    "papermill": {
     "duration": 0.283979,
     "end_time": "2023-03-09T05:52:22.077611",
     "exception": false,
     "start_time": "2023-03-09T05:52:21.793632",
     "status": "completed"
    },
    "tags": []
   },
   "outputs": [
    {
     "data": {
      "text/plain": [
       "<matplotlib.image.AxesImage at 0x7f2b0d40c110>"
      ]
     },
     "execution_count": 6,
     "metadata": {},
     "output_type": "execute_result"
    },
    {
     "data": {
      "image/png": "[encoded data removed]",
      "text/plain": [
       "<Figure size 640x480 with 1 Axes>"
      ]
     },
     "metadata": {},
     "output_type": "display_data"
    }
   ],
   "source": [
    "plt.imshow(train_X[50000]  , cmap=plt.cm.gray_r,interpolation=\"nearest\")"
   ]
  },
  {
   "cell_type": "code",
   "execution_count": 7,
   "id": "ec1b24e6",
   "metadata": {
    "execution": {
     "iopub.execute_input": "2023-03-09T05:52:22.099372Z",
     "iopub.status.busy": "2023-03-09T05:52:22.098786Z",
     "iopub.status.idle": "2023-03-09T05:52:22.106898Z",
     "shell.execute_reply": "2023-03-09T05:52:22.105225Z"
    },
    "papermill": {
     "duration": 0.021776,
     "end_time": "2023-03-09T05:52:22.109453",
     "exception": false,
     "start_time": "2023-03-09T05:52:22.087677",
     "status": "completed"
    },
    "tags": []
   },
   "outputs": [
    {
     "data": {
      "text/plain": [
       "'8'"
      ]
     },
     "execution_count": 7,
     "metadata": {},
     "output_type": "execute_result"
    }
   ],
   "source": [
    "train_Y[50000]"
   ]
  },
  {
   "cell_type": "code",
   "execution_count": 8,
   "id": "acc9d8a4",
   "metadata": {
    "execution": {
     "iopub.execute_input": "2023-03-09T05:52:22.130686Z",
     "iopub.status.busy": "2023-03-09T05:52:22.130241Z",
     "iopub.status.idle": "2023-03-09T05:52:22.209472Z",
     "shell.execute_reply": "2023-03-09T05:52:22.208469Z"
    },
    "papermill": {
     "duration": 0.093012,
     "end_time": "2023-03-09T05:52:22.212178",
     "exception": false,
     "start_time": "2023-03-09T05:52:22.119166",
     "status": "completed"
    },
    "tags": []
   },
   "outputs": [],
   "source": [
    "X_train, X_test, y_train, y_test = train_test_split(train_X,train_Y,test_size=0.20 ,shuffle=True)"
   ]
  },
  {
   "cell_type": "markdown",
   "id": "8c6c4cee",
   "metadata": {
    "papermill": {
     "duration": 0.009324,
     "end_time": "2023-03-09T05:52:22.231167",
     "exception": false,
     "start_time": "2023-03-09T05:52:22.221843",
     "status": "completed"
    },
    "tags": []
   },
   "source": [
    "# knn"
   ]
  },
  {
   "cell_type": "code",
   "execution_count": 9,
   "id": "581ab267",
   "metadata": {
    "execution": {
     "iopub.execute_input": "2023-03-09T05:52:22.252650Z",
     "iopub.status.busy": "2023-03-09T05:52:22.252205Z",
     "iopub.status.idle": "2023-03-09T05:52:22.383825Z",
     "shell.execute_reply": "2023-03-09T05:52:22.382596Z"
    },
    "papermill": {
     "duration": 0.146065,
     "end_time": "2023-03-09T05:52:22.386793",
     "exception": false,
     "start_time": "2023-03-09T05:52:22.240728",
     "status": "completed"
    },
    "tags": []
   },
   "outputs": [],
   "source": [
    "from sklearn.neighbors import KNeighborsClassifier"
   ]
  },
  {
   "cell_type": "code",
   "execution_count": 10,
   "id": "c9170d9b",
   "metadata": {
    "execution": {
     "iopub.execute_input": "2023-03-09T05:52:22.408492Z",
     "iopub.status.busy": "2023-03-09T05:52:22.408068Z",
     "iopub.status.idle": "2023-03-09T05:52:22.413513Z",
     "shell.execute_reply": "2023-03-09T05:52:22.412357Z"
    },
    "papermill": {
     "duration": 0.019073,
     "end_time": "2023-03-09T05:52:22.415912",
     "exception": false,
     "start_time": "2023-03-09T05:52:22.396839",
     "status": "completed"
    },
    "tags": []
   },
   "outputs": [],
   "source": [
    "knn = KNeighborsClassifier(n_neighbors=3)"
   ]
  },
  {
   "cell_type": "code",
   "execution_count": 11,
   "id": "3cd62876",
   "metadata": {
    "execution": {
     "iopub.execute_input": "2023-03-09T05:52:22.436953Z",
     "iopub.status.busy": "2023-03-09T05:52:22.436561Z",
     "iopub.status.idle": "2023-03-09T05:52:22.627994Z",
     "shell.execute_reply": "2023-03-09T05:52:22.626838Z"
    },
    "papermill": {
     "duration": 0.205383,
     "end_time": "2023-03-09T05:52:22.630947",
     "exception": false,
     "start_time": "2023-03-09T05:52:22.425564",
     "status": "completed"
    },
    "tags": []
   },
   "outputs": [],
   "source": [
    "x_arr =np.array(X_train)"
   ]
  },
  {
   "cell_type": "code",
   "execution_count": 12,
   "id": "bdb61214",
   "metadata": {
    "execution": {
     "iopub.execute_input": "2023-03-09T05:52:22.652012Z",
     "iopub.status.busy": "2023-03-09T05:52:22.651626Z",
     "iopub.status.idle": "2023-03-09T05:52:22.658395Z",
     "shell.execute_reply": "2023-03-09T05:52:22.657246Z"
    },
    "papermill": {
     "duration": 0.020282,
     "end_time": "2023-03-09T05:52:22.660798",
     "exception": false,
     "start_time": "2023-03-09T05:52:22.640516",
     "status": "completed"
    },
    "tags": []
   },
   "outputs": [
    {
     "data": {
      "text/plain": [
       "(112000, 32, 32)"
      ]
     },
     "execution_count": 12,
     "metadata": {},
     "output_type": "execute_result"
    }
   ],
   "source": [
    "x_arr.shape"
   ]
  },
  {
   "cell_type": "code",
   "execution_count": 13,
   "id": "00031d93",
   "metadata": {
    "execution": {
     "iopub.execute_input": "2023-03-09T05:52:22.682578Z",
     "iopub.status.busy": "2023-03-09T05:52:22.682090Z",
     "iopub.status.idle": "2023-03-09T05:52:22.687890Z",
     "shell.execute_reply": "2023-03-09T05:52:22.686785Z"
    },
    "papermill": {
     "duration": 0.019657,
     "end_time": "2023-03-09T05:52:22.690453",
     "exception": false,
     "start_time": "2023-03-09T05:52:22.670796",
     "status": "completed"
    },
    "tags": []
   },
   "outputs": [],
   "source": [
    "xd =x_arr.reshape(112000,1024)"
   ]
  },
  {
   "cell_type": "code",
   "execution_count": 14,
   "id": "09e059dd",
   "metadata": {
    "execution": {
     "iopub.execute_input": "2023-03-09T05:52:22.712459Z",
     "iopub.status.busy": "2023-03-09T05:52:22.712036Z",
     "iopub.status.idle": "2023-03-09T05:52:22.718980Z",
     "shell.execute_reply": "2023-03-09T05:52:22.717816Z"
    },
    "papermill": {
     "duration": 0.020895,
     "end_time": "2023-03-09T05:52:22.721126",
     "exception": false,
     "start_time": "2023-03-09T05:52:22.700231",
     "status": "completed"
    },
    "tags": []
   },
   "outputs": [
    {
     "data": {
      "text/plain": [
       "112000"
      ]
     },
     "execution_count": 14,
     "metadata": {},
     "output_type": "execute_result"
    }
   ],
   "source": [
    "len(xd)"
   ]
  },
  {
   "cell_type": "code",
   "execution_count": 15,
   "id": "d3b0211c",
   "metadata": {
    "execution": {
     "iopub.execute_input": "2023-03-09T05:52:22.742797Z",
     "iopub.status.busy": "2023-03-09T05:52:22.741944Z",
     "iopub.status.idle": "2023-03-09T05:52:22.793035Z",
     "shell.execute_reply": "2023-03-09T05:52:22.791762Z"
    },
    "papermill": {
     "duration": 0.064725,
     "end_time": "2023-03-09T05:52:22.795652",
     "exception": false,
     "start_time": "2023-03-09T05:52:22.730927",
     "status": "completed"
    },
    "tags": []
   },
   "outputs": [
    {
     "data": {
      "text/plain": [
       "KNeighborsClassifier(n_neighbors=3)"
      ]
     },
     "execution_count": 15,
     "metadata": {},
     "output_type": "execute_result"
    }
   ],
   "source": [
    "knn.fit(xd,y_train)"
   ]
  },
  {
   "cell_type": "code",
   "execution_count": 16,
   "id": "f32e8eae",
   "metadata": {
    "execution": {
     "iopub.execute_input": "2023-03-09T05:52:22.818014Z",
     "iopub.status.busy": "2023-03-09T05:52:22.817612Z",
     "iopub.status.idle": "2023-03-09T05:52:22.870390Z",
     "shell.execute_reply": "2023-03-09T05:52:22.869095Z"
    },
    "papermill": {
     "duration": 0.06787,
     "end_time": "2023-03-09T05:52:22.873605",
     "exception": false,
     "start_time": "2023-03-09T05:52:22.805735",
     "status": "completed"
    },
    "tags": []
   },
   "outputs": [],
   "source": [
    "y_arr =np.array(X_test)"
   ]
  },
  {
   "cell_type": "code",
   "execution_count": 17,
   "id": "519aeb7d",
   "metadata": {
    "execution": {
     "iopub.execute_input": "2023-03-09T05:52:22.895379Z",
     "iopub.status.busy": "2023-03-09T05:52:22.894942Z",
     "iopub.status.idle": "2023-03-09T05:52:22.899584Z",
     "shell.execute_reply": "2023-03-09T05:52:22.898683Z"
    },
    "papermill": {
     "duration": 0.0183,
     "end_time": "2023-03-09T05:52:22.901976",
     "exception": false,
     "start_time": "2023-03-09T05:52:22.883676",
     "status": "completed"
    },
    "tags": []
   },
   "outputs": [],
   "source": [
    "y_te = y_arr.reshape(28000,1024 )"
   ]
  },
  {
   "cell_type": "code",
   "execution_count": 18,
   "id": "4d136d30",
   "metadata": {
    "execution": {
     "iopub.execute_input": "2023-03-09T05:52:22.924030Z",
     "iopub.status.busy": "2023-03-09T05:52:22.923620Z",
     "iopub.status.idle": "2023-03-09T05:54:56.879322Z",
     "shell.execute_reply": "2023-03-09T05:54:56.877977Z"
    },
    "papermill": {
     "duration": 153.970368,
     "end_time": "2023-03-09T05:54:56.882508",
     "exception": false,
     "start_time": "2023-03-09T05:52:22.912140",
     "status": "completed"
    },
    "tags": []
   },
   "outputs": [],
   "source": [
    "predict =knn.predict(y_te)"
   ]
  },
  {
   "cell_type": "code",
   "execution_count": 19,
   "id": "f6473607",
   "metadata": {
    "execution": {
     "iopub.execute_input": "2023-03-09T05:54:56.905732Z",
     "iopub.status.busy": "2023-03-09T05:54:56.905266Z",
     "iopub.status.idle": "2023-03-09T05:54:56.912047Z",
     "shell.execute_reply": "2023-03-09T05:54:56.910952Z"
    },
    "papermill": {
     "duration": 0.021276,
     "end_time": "2023-03-09T05:54:56.914389",
     "exception": false,
     "start_time": "2023-03-09T05:54:56.893113",
     "status": "completed"
    },
    "tags": []
   },
   "outputs": [
    {
     "data": {
      "text/plain": [
       "'A'"
      ]
     },
     "execution_count": 19,
     "metadata": {},
     "output_type": "execute_result"
    }
   ],
   "source": [
    "predict[9]"
   ]
  },
  {
   "cell_type": "markdown",
   "id": "55be088d",
   "metadata": {
    "papermill": {
     "duration": 0.009915,
     "end_time": "2023-03-09T05:54:56.934461",
     "exception": false,
     "start_time": "2023-03-09T05:54:56.924546",
     "status": "completed"
    },
    "tags": []
   },
   "source": []
  },
  {
   "cell_type": "code",
   "execution_count": 20,
   "id": "e2c43d99",
   "metadata": {
    "execution": {
     "iopub.execute_input": "2023-03-09T05:54:56.956915Z",
     "iopub.status.busy": "2023-03-09T05:54:56.956492Z",
     "iopub.status.idle": "2023-03-09T05:54:56.981141Z",
     "shell.execute_reply": "2023-03-09T05:54:56.979873Z"
    },
    "papermill": {
     "duration": 0.03947,
     "end_time": "2023-03-09T05:54:56.984105",
     "exception": false,
     "start_time": "2023-03-09T05:54:56.944635",
     "status": "completed"
    },
    "tags": []
   },
   "outputs": [
    {
     "name": "stdout",
     "output_type": "stream",
     "text": [
      "86.17857142857143 %\n"
     ]
    }
   ],
   "source": [
    "accurcy = accuracy_score(y_test,predict)*100\n",
    "print(str(accurcy)+\" %\")\n"
   ]
  },
  {
   "cell_type": "markdown",
   "id": "60e9e85f",
   "metadata": {
    "papermill": {
     "duration": 0.010228,
     "end_time": "2023-03-09T05:54:57.005157",
     "exception": false,
     "start_time": "2023-03-09T05:54:56.994929",
     "status": "completed"
    },
    "tags": []
   },
   "source": [
    "**TENSORFLOW**"
   ]
  },
  {
   "cell_type": "code",
   "execution_count": 21,
   "id": "a680dae7",
   "metadata": {
    "execution": {
     "iopub.execute_input": "2023-03-09T05:54:57.027721Z",
     "iopub.status.busy": "2023-03-09T05:54:57.027292Z",
     "iopub.status.idle": "2023-03-09T05:55:04.884945Z",
     "shell.execute_reply": "2023-03-09T05:55:04.883702Z"
    },
    "papermill": {
     "duration": 7.87234,
     "end_time": "2023-03-09T05:55:04.887833",
     "exception": false,
     "start_time": "2023-03-09T05:54:57.015493",
     "status": "completed"
    },
    "tags": []
   },
   "outputs": [],
   "source": [
    "import tensorflow as tf\n",
    "from tensorflow import keras\n",
    "from tensorflow.keras.layers import Convolution2D as Conv2D\n",
    "from tensorflow.keras.layers import MaxPooling2D\n",
    "from keras.layers import Dense,Flatten,Dropout\n",
    "from keras import Sequential"
   ]
  },
  {
   "cell_type": "code",
   "execution_count": 22,
   "id": "769e2a53",
   "metadata": {
    "execution": {
     "iopub.execute_input": "2023-03-09T05:55:04.910467Z",
     "iopub.status.busy": "2023-03-09T05:55:04.909718Z",
     "iopub.status.idle": "2023-03-09T05:55:05.089220Z",
     "shell.execute_reply": "2023-03-09T05:55:05.087943Z"
    },
    "papermill": {
     "duration": 0.193733,
     "end_time": "2023-03-09T05:55:05.091842",
     "exception": false,
     "start_time": "2023-03-09T05:55:04.898109",
     "status": "completed"
    },
    "tags": []
   },
   "outputs": [
    {
     "data": {
      "text/plain": [
       "(112000, 32, 32)"
      ]
     },
     "execution_count": 22,
     "metadata": {},
     "output_type": "execute_result"
    }
   ],
   "source": [
    "np.array(X_train).shape"
   ]
  },
  {
   "cell_type": "code",
   "execution_count": 23,
   "id": "033463d4",
   "metadata": {
    "execution": {
     "iopub.execute_input": "2023-03-09T05:55:05.114970Z",
     "iopub.status.busy": "2023-03-09T05:55:05.114578Z",
     "iopub.status.idle": "2023-03-09T05:55:05.439594Z",
     "shell.execute_reply": "2023-03-09T05:55:05.437931Z"
    },
    "papermill": {
     "duration": 0.339935,
     "end_time": "2023-03-09T05:55:05.442475",
     "exception": false,
     "start_time": "2023-03-09T05:55:05.102540",
     "status": "completed"
    },
    "tags": []
   },
   "outputs": [],
   "source": [
    "LB = LabelBinarizer()\n",
    "train_Y = LB.fit_transform(y_train)\n",
    "val_Y = LB.fit_transform(y_test)"
   ]
  },
  {
   "cell_type": "code",
   "execution_count": 24,
   "id": "11fa0502",
   "metadata": {
    "execution": {
     "iopub.execute_input": "2023-03-09T05:55:05.465138Z",
     "iopub.status.busy": "2023-03-09T05:55:05.464756Z",
     "iopub.status.idle": "2023-03-09T05:55:05.957767Z",
     "shell.execute_reply": "2023-03-09T05:55:05.956605Z"
    },
    "papermill": {
     "duration": 0.507677,
     "end_time": "2023-03-09T05:55:05.960577",
     "exception": false,
     "start_time": "2023-03-09T05:55:05.452900",
     "status": "completed"
    },
    "tags": []
   },
   "outputs": [],
   "source": [
    "train_X = np.array(X_train)/255.0\n",
    "train_X = train_X.reshape(-1,32,32,1)\n",
    "train_Y = np.array(train_Y)"
   ]
  },
  {
   "cell_type": "code",
   "execution_count": 25,
   "id": "a5b16d0e",
   "metadata": {
    "execution": {
     "iopub.execute_input": "2023-03-09T05:55:05.983312Z",
     "iopub.status.busy": "2023-03-09T05:55:05.982939Z",
     "iopub.status.idle": "2023-03-09T05:55:05.992523Z",
     "shell.execute_reply": "2023-03-09T05:55:05.991511Z"
    },
    "papermill": {
     "duration": 0.024068,
     "end_time": "2023-03-09T05:55:05.995113",
     "exception": false,
     "start_time": "2023-03-09T05:55:05.971045",
     "status": "completed"
    },
    "tags": []
   },
   "outputs": [
    {
     "data": {
      "text/plain": [
       "(28000, 35)"
      ]
     },
     "execution_count": 25,
     "metadata": {},
     "output_type": "execute_result"
    }
   ],
   "source": [
    "np.array(val_Y).shape"
   ]
  },
  {
   "cell_type": "code",
   "execution_count": 26,
   "id": "07dbde67",
   "metadata": {
    "execution": {
     "iopub.execute_input": "2023-03-09T05:55:06.018171Z",
     "iopub.status.busy": "2023-03-09T05:55:06.017454Z",
     "iopub.status.idle": "2023-03-09T05:55:06.143988Z",
     "shell.execute_reply": "2023-03-09T05:55:06.142716Z"
    },
    "papermill": {
     "duration": 0.141109,
     "end_time": "2023-03-09T05:55:06.146742",
     "exception": false,
     "start_time": "2023-03-09T05:55:06.005633",
     "status": "completed"
    },
    "tags": []
   },
   "outputs": [],
   "source": [
    "val_X = np.array(X_test)/255.0\n",
    "val_X = val_X.reshape(-1,32,32,1)\n",
    "val_Y = np.array(val_Y)"
   ]
  },
  {
   "cell_type": "code",
   "execution_count": 27,
   "id": "1f96e398",
   "metadata": {
    "execution": {
     "iopub.execute_input": "2023-03-09T05:55:06.169487Z",
     "iopub.status.busy": "2023-03-09T05:55:06.169069Z",
     "iopub.status.idle": "2023-03-09T05:55:06.175759Z",
     "shell.execute_reply": "2023-03-09T05:55:06.174679Z"
    },
    "papermill": {
     "duration": 0.020901,
     "end_time": "2023-03-09T05:55:06.178059",
     "exception": false,
     "start_time": "2023-03-09T05:55:06.157158",
     "status": "completed"
    },
    "tags": []
   },
   "outputs": [
    {
     "data": {
      "text/plain": [
       "(112000, 32, 32, 1)"
      ]
     },
     "execution_count": 27,
     "metadata": {},
     "output_type": "execute_result"
    }
   ],
   "source": [
    "train_X.shape"
   ]
  },
  {
   "cell_type": "code",
   "execution_count": 28,
   "id": "69454ebd",
   "metadata": {
    "execution": {
     "iopub.execute_input": "2023-03-09T05:55:06.201278Z",
     "iopub.status.busy": "2023-03-09T05:55:06.200882Z",
     "iopub.status.idle": "2023-03-09T05:55:06.385216Z",
     "shell.execute_reply": "2023-03-09T05:55:06.383994Z"
    },
    "papermill": {
     "duration": 0.199544,
     "end_time": "2023-03-09T05:55:06.388039",
     "exception": false,
     "start_time": "2023-03-09T05:55:06.188495",
     "status": "completed"
    },
    "tags": []
   },
   "outputs": [],
   "source": [
    "model = Sequential()\n",
    "\n",
    "model.add(Conv2D(32,kernel_size=(3,3),padding='same',activation='relu',input_shape=(32,32,1)))\n",
    "model.add(MaxPooling2D(pool_size=(2,2)))\n",
    "model.add(Conv2D(64,kernel_size=(3,3),activation='relu'))\n",
    "model.add(MaxPooling2D(pool_size=(2,2)))\n",
    "model.add(Conv2D(128,kernel_size=(3,3),activation='relu'))\n",
    "model.add(MaxPooling2D(pool_size=(2,2)))\n",
    "model.add(Dropout(0.25))\n",
    "\n",
    "model.add(Flatten())\n",
    "\n",
    "model.add(Dense(128,activation='relu'))\n",
    "model.add(Dropout(0.2))\n",
    "model.add(Dense(35,activation='softmax'))"
   ]
  },
  {
   "cell_type": "code",
   "execution_count": 29,
   "id": "899a8728",
   "metadata": {
    "execution": {
     "iopub.execute_input": "2023-03-09T05:55:06.411058Z",
     "iopub.status.busy": "2023-03-09T05:55:06.410641Z",
     "iopub.status.idle": "2023-03-09T05:55:06.458083Z",
     "shell.execute_reply": "2023-03-09T05:55:06.455018Z"
    },
    "papermill": {
     "duration": 0.067704,
     "end_time": "2023-03-09T05:55:06.466258",
     "exception": false,
     "start_time": "2023-03-09T05:55:06.398554",
     "status": "completed"
    },
    "tags": []
   },
   "outputs": [
    {
     "name": "stdout",
     "output_type": "stream",
     "text": [
      "Model: \"sequential\"\n",
      "_________________________________________________________________\n",
      " Layer (type)                Output Shape              Param #   \n",
      "=================================================================\n",
      " conv2d (Conv2D)             (None, 32, 32, 32)        320       \n",
      "                                                                 \n",
      " max_pooling2d (MaxPooling2D  (None, 16, 16, 32)       0         \n",
      " )                                                               \n",
      "                                                                 \n",
      " conv2d_1 (Conv2D)           (None, 14, 14, 64)        18496     \n",
      "                                                                 \n",
      " max_pooling2d_1 (MaxPooling  (None, 7, 7, 64)         0         \n",
      " 2D)                                                             \n",
      "                                                                 \n",
      " conv2d_2 (Conv2D)           (None, 5, 5, 128)         73856     \n",
      "                                                                 \n",
      " max_pooling2d_2 (MaxPooling  (None, 2, 2, 128)        0         \n",
      " 2D)                                                             \n",
      "                                                                 \n",
      " dropout (Dropout)           (None, 2, 2, 128)         0         \n",
      "                                                                 \n",
      " flatten (Flatten)           (None, 512)               0         \n",
      "                                                                 \n",
      " dense (Dense)               (None, 128)               65664     \n",
      "                                                                 \n",
      " dropout_1 (Dropout)         (None, 128)               0         \n",
      "                                                                 \n",
      " dense_1 (Dense)             (None, 35)                4515      \n",
      "                                                                 \n",
      "=================================================================\n",
      "Total params: 162,851\n",
      "Trainable params: 162,851\n",
      "Non-trainable params: 0\n",
      "_________________________________________________________________\n"
     ]
    }
   ],
   "source": [
    "model.summary()"
   ]
  },
  {
   "cell_type": "code",
   "execution_count": 30,
   "id": "13b6ec3a",
   "metadata": {
    "execution": {
     "iopub.execute_input": "2023-03-09T05:55:06.494072Z",
     "iopub.status.busy": "2023-03-09T05:55:06.493647Z",
     "iopub.status.idle": "2023-03-09T05:55:06.509945Z",
     "shell.execute_reply": "2023-03-09T05:55:06.508741Z"
    },
    "papermill": {
     "duration": 0.033452,
     "end_time": "2023-03-09T05:55:06.512479",
     "exception": false,
     "start_time": "2023-03-09T05:55:06.479027",
     "status": "completed"
    },
    "tags": []
   },
   "outputs": [],
   "source": [
    "model.compile(loss='categorical_crossentropy', optimizer=\"adam\",metrics=['accuracy'])"
   ]
  },
  {
   "cell_type": "code",
   "execution_count": 31,
   "id": "8aaf9f9f",
   "metadata": {
    "execution": {
     "iopub.execute_input": "2023-03-09T05:55:06.540556Z",
     "iopub.status.busy": "2023-03-09T05:55:06.539249Z",
     "iopub.status.idle": "2023-03-09T06:12:17.524757Z",
     "shell.execute_reply": "2023-03-09T06:12:17.523274Z"
    },
    "papermill": {
     "duration": 1032.168308,
     "end_time": "2023-03-09T06:12:18.693564",
     "exception": false,
     "start_time": "2023-03-09T05:55:06.525256",
     "status": "completed"
    },
    "tags": []
   },
   "outputs": [
    {
     "name": "stdout",
     "output_type": "stream",
     "text": [
      "Epoch 1/10\n",
      "3500/3500 [==============================] - 104s 29ms/step - loss: 0.6627 - accuracy: 0.7890 - val_loss: 0.3123 - val_accuracy: 0.8935\n",
      "Epoch 2/10\n",
      "3500/3500 [==============================] - 104s 30ms/step - loss: 0.3636 - accuracy: 0.8768 - val_loss: 0.2757 - val_accuracy: 0.9045\n",
      "Epoch 3/10\n",
      "3500/3500 [==============================] - 104s 30ms/step - loss: 0.3133 - accuracy: 0.8923 - val_loss: 0.2672 - val_accuracy: 0.9048\n",
      "Epoch 4/10\n",
      "3500/3500 [==============================] - 103s 30ms/step - loss: 0.2860 - accuracy: 0.9013 - val_loss: 0.2528 - val_accuracy: 0.9150\n",
      "Epoch 5/10\n",
      "3500/3500 [==============================] - 100s 29ms/step - loss: 0.2661 - accuracy: 0.9077 - val_loss: 0.2344 - val_accuracy: 0.9183\n",
      "Epoch 6/10\n",
      "3500/3500 [==============================] - 102s 29ms/step - loss: 0.2498 - accuracy: 0.9122 - val_loss: 0.2278 - val_accuracy: 0.9220\n",
      "Epoch 7/10\n",
      "3500/3500 [==============================] - 103s 30ms/step - loss: 0.2429 - accuracy: 0.9135 - val_loss: 0.2293 - val_accuracy: 0.9213\n",
      "Epoch 8/10\n",
      "3500/3500 [==============================] - 104s 30ms/step - loss: 0.2306 - accuracy: 0.9187 - val_loss: 0.2288 - val_accuracy: 0.9209\n",
      "Epoch 9/10\n",
      "3500/3500 [==============================] - 103s 29ms/step - loss: 0.2234 - accuracy: 0.9201 - val_loss: 0.2362 - val_accuracy: 0.9183\n",
      "Epoch 10/10\n",
      "3500/3500 [==============================] - 103s 29ms/step - loss: 0.2160 - accuracy: 0.9229 - val_loss: 0.2274 - val_accuracy: 0.9215\n"
     ]
    }
   ],
   "source": [
    "history = model.fit(train_X , train_Y, epochs=10 , batch_size = 32 , validation_data = (val_X,val_Y) , verbose=1)"
   ]
  },
  {
   "cell_type": "code",
   "execution_count": 32,
   "id": "8d82e3c5",
   "metadata": {
    "execution": {
     "iopub.execute_input": "2023-03-09T06:12:21.117327Z",
     "iopub.status.busy": "2023-03-09T06:12:21.116574Z",
     "iopub.status.idle": "2023-03-09T06:12:21.299583Z",
     "shell.execute_reply": "2023-03-09T06:12:21.297923Z"
    },
    "papermill": {
     "duration": 1.399095,
     "end_time": "2023-03-09T06:12:21.302555",
     "exception": false,
     "start_time": "2023-03-09T06:12:19.903460",
     "status": "completed"
    },
    "tags": []
   },
   "outputs": [
    {
     "data": {
      "image/png": "[encoded data removed]",
      "text/plain": [
       "<Figure size 640x480 with 1 Axes>"
      ]
     },
     "metadata": {},
     "output_type": "display_data"
    }
   ],
   "source": [
    "plt.plot(history.history['accuracy'])\n",
    "plt.plot(history.history['val_accuracy'])\n",
    "plt.title('Training Accuracy vs Validation Accuracy')\n",
    "plt.ylabel('Accuracy')\n",
    "plt.xlabel('Epoch')\n",
    "plt.legend(['Train', 'Validation'], loc='upper left')\n",
    "plt.show()"
   ]
  },
  {
   "cell_type": "code",
   "execution_count": 33,
   "id": "d9966297",
   "metadata": {
    "execution": {
     "iopub.execute_input": "2023-03-09T06:12:23.699716Z",
     "iopub.status.busy": "2023-03-09T06:12:23.699291Z",
     "iopub.status.idle": "2023-03-09T06:12:23.912839Z",
     "shell.execute_reply": "2023-03-09T06:12:23.911636Z"
    },
    "papermill": {
     "duration": 1.367261,
     "end_time": "2023-03-09T06:12:23.915334",
     "exception": false,
     "start_time": "2023-03-09T06:12:22.548073",
     "status": "completed"
    },
    "tags": []
   },
   "outputs": [
    {
     "data": {
      "image/png": "[encoded data removed]",
      "text/plain": [
       "<Figure size 640x480 with 1 Axes>"
      ]
     },
     "metadata": {},
     "output_type": "display_data"
    }
   ],
   "source": [
    "plt.plot(history.history['loss'])\n",
    "plt.plot(history.history['val_loss'])\n",
    "plt.title('Training Loss vs Validation Loss')\n",
    "plt.ylabel('Loss')\n",
    "plt.xlabel('Epoch')\n",
    "plt.legend(['Train', 'Validation'], loc='upper left')\n",
    "plt.show()"
   ]
  },
  {
   "cell_type": "code",
   "execution_count": 34,
   "id": "9851df9c",
   "metadata": {
    "execution": {
     "iopub.execute_input": "2023-03-09T06:12:26.392301Z",
     "iopub.status.busy": "2023-03-09T06:12:26.391658Z",
     "iopub.status.idle": "2023-03-09T06:12:26.434938Z",
     "shell.execute_reply": "2023-03-09T06:12:26.433706Z"
    },
    "papermill": {
     "duration": 1.298077,
     "end_time": "2023-03-09T06:12:26.437599",
     "exception": false,
     "start_time": "2023-03-09T06:12:25.139522",
     "status": "completed"
    },
    "tags": []
   },
   "outputs": [],
   "source": [
    "model.save(\"model4.h5\")"
   ]
  },
  {
   "cell_type": "code",
   "execution_count": null,
   "id": "9ac47d97",
   "metadata": {
    "papermill": {
     "duration": 1.243472,
     "end_time": "2023-03-09T06:12:28.864860",
     "exception": false,
     "start_time": "2023-03-09T06:12:27.621388",
     "status": "completed"
    },
    "tags": []
   },
   "outputs": [],
   "source": []
  },
  {
   "cell_type": "code",
   "execution_count": null,
   "id": "2f4ded64",
   "metadata": {
    "papermill": {
     "duration": 1.151508,
     "end_time": "2023-03-09T06:12:31.250138",
     "exception": false,
     "start_time": "2023-03-09T06:12:30.098630",
     "status": "completed"
    },
    "tags": []
   },
   "outputs": [],
   "source": []
  }
 ],
 "metadata": {
  "kernelspec": {
   "display_name": "Python 3",
   "language": "python",
   "name": "python3"
  },
  "language_info": {
   "codemirror_mode": {
    "name": "ipython",
    "version": 3
   },
   "file_extension": ".py",
   "mimetype": "text/x-python",
   "name": "python",
   "nbconvert_exporter": "python",
   "pygments_lexer": "ipython3",
   "version": "3.7.12"
  },
  "papermill": {
   "default_parameters": {},
   "duration": 2131.112238,
   "end_time": "2023-03-09T06:12:35.569642",
   "environment_variables": {},
   "exception": null,
   "input_path": "__notebook__.ipynb",
   "output_path": "__notebook__.ipynb",
   "parameters": {},
   "start_time": "2023-03-09T05:37:04.457404",
   "version": "2.3.4"
  }
 },
 "nbformat": 4,
 "nbformat_minor": 5
}
